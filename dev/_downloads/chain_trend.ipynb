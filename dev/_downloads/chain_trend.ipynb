{
  "cells": [
    {
      "cell_type": "code",
      "execution_count": null,
      "metadata": {
        "collapsed": false
      },
      "outputs": [],
      "source": [
        "%matplotlib inline"
      ]
    },
    {
      "cell_type": "markdown",
      "metadata": {},
      "source": [
        "\nChaining operations\n===================\n\nThe :class:`verde.Chain` class allows us to created gridders that perform multiple\noperations on data. Each step in the chain filters the input and passes the result along\nto the next step. For gridders and trend estimators, filtering means fitting the model\nand passing along the residuals (input data minus predicted data). When predicting data,\nthe predictions of each step are added together. Other operations, like\n:class:`verde.BlockReduce` and :class:`verde.BlockMean` change the input data values and\nthe coordinates as well but don't impact the predictions.\n\nFor example, say we want to decimate some data, calculate a polynomial trend, and fit a\ngridder on the residual values (not the trend), but then make a grid of the full data\nvalues (trend included). This is useful because decimation is common and many gridders\ncan't handle trends in data.\n\n"
      ]
    },
    {
      "cell_type": "code",
      "execution_count": null,
      "metadata": {
        "collapsed": false
      },
      "outputs": [],
      "source": [
        "import numpy as np\nimport matplotlib.pyplot as plt\nimport cartopy.crs as ccrs\nimport pyproj\nimport verde as vd\n\n# Load the Rio de Janeiro total field magnetic anomaly data\ndata = vd.datasets.fetch_rio_magnetic()\nregion = vd.get_region((data.longitude, data.latitude))\n\n# Create a projection for the data using pyproj so that we can use it as input for the\n# gridder. We'll set the latitude of true scale to the mean latitude of the data.\nprojection = pyproj.Proj(proj=\"merc\", lat_ts=data.latitude.mean())\n\n# Create a chain that fits a 2nd degree trend, decimates the residuals using a blocked\n# mean to avoid aliasing, and then fits a standard gridder to the residuals. The spacing\n# for the blocked mean will be 0.5 arc-minutes (approximately converted to meters).\nspacing = 0.5 / 60\nchain = vd.Chain(\n    [\n        (\"trend\", vd.Trend(degree=2)),\n        (\"reduce\", vd.BlockReduce(np.mean, spacing * 111e3)),\n        (\"spline\", vd.Spline(damping=1e-8)),\n    ]\n)\nprint(\"Chained estimator:\", chain)\n# Calling 'fit' will automatically run the data through the chain\nchain.fit(\n    projection(data.longitude.values, data.latitude.values), data.total_field_anomaly_nt\n)\n\n# Each component of the chain can be accessed separately using the 'named_steps'\n# attribute\ngrid_trend = chain.named_steps[\"trend\"].grid()\nprint(\"\\nTrend grid:\")\nprint(grid_trend)\n\ngrid_residual = chain.named_steps[\"spline\"].grid()\nprint(\"\\nResidual grid:\")\nprint(grid_residual)\n\n# Chain.grid will use both the trend and the gridder to predict values. We'll use the\n# 'projection' keyword to generate a geographic grid instead of Cartesian\ngrid = chain.grid(\n    region=region,\n    spacing=spacing,\n    projection=projection,\n    dims=[\"latitude\", \"longitude\"],\n    data_names=[\"total_field_anomaly\"],\n)\nprint(\"\\nChained geographic grid:\")\nprint(grid)\n\n# We'll plot only the chained grid on a Mercator map\nplt.figure(figsize=(7, 5))\ncrs = ccrs.PlateCarree()\nax = plt.axes(projection=ccrs.Mercator())\nax.set_title(\"De-trend, decimate, and spline\")\nmaxabs = vd.maxabs(grid.total_field_anomaly)\npc = ax.pcolormesh(\n    grid.longitude,\n    grid.latitude,\n    grid.total_field_anomaly,\n    transform=crs,\n    cmap=\"seismic\",\n    vmin=-maxabs,\n    vmax=maxabs,\n)\nplt.colorbar(pc, pad=0.01).set_label(\"total field anomaly [nT]\")\n# Set the proper ticks for a Cartopy map\nvd.datasets.setup_rio_magnetic_map(ax)\nplt.tight_layout()\nplt.show()"
      ]
    }
  ],
  "metadata": {
    "kernelspec": {
      "display_name": "Python 3",
      "language": "python",
      "name": "python3"
    },
    "language_info": {
      "codemirror_mode": {
        "name": "ipython",
        "version": 3
      },
      "file_extension": ".py",
      "mimetype": "text/x-python",
      "name": "python",
      "nbconvert_exporter": "python",
      "pygments_lexer": "ipython3",
      "version": "3.6.5"
    }
  },
  "nbformat": 4,
  "nbformat_minor": 0
}